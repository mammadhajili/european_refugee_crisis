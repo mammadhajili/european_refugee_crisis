{
 "cells": [
  {
   "cell_type": "code",
   "execution_count": 1,
   "metadata": {},
   "outputs": [
    {
     "ename": "ValueError",
     "evalue": "Couldn't find Spark, make sure SPARK_HOME env is set or Spark is in an expected location (e.g. from homebrew installation).",
     "output_type": "error",
     "traceback": [
      "\u001b[0;31m---------------------------------------------------------------------------\u001b[0m",
      "\u001b[0;31mValueError\u001b[0m                                Traceback (most recent call last)",
      "\u001b[0;32m<ipython-input-1-b86d17d6a449>\u001b[0m in \u001b[0;36m<module>\u001b[0;34m()\u001b[0m\n\u001b[1;32m      7\u001b[0m \u001b[0;34m\u001b[0m\u001b[0m\n\u001b[1;32m      8\u001b[0m \u001b[0;32mimport\u001b[0m \u001b[0mfindspark\u001b[0m\u001b[0;34m\u001b[0m\u001b[0m\n\u001b[0;32m----> 9\u001b[0;31m \u001b[0mfindspark\u001b[0m\u001b[0;34m.\u001b[0m\u001b[0minit\u001b[0m\u001b[0;34m(\u001b[0m\u001b[0;34m)\u001b[0m\u001b[0;34m\u001b[0m\u001b[0m\n\u001b[0m\u001b[1;32m     10\u001b[0m \u001b[0;34m\u001b[0m\u001b[0m\n\u001b[1;32m     11\u001b[0m \u001b[0;32mfrom\u001b[0m \u001b[0mpyspark\u001b[0m\u001b[0;34m.\u001b[0m\u001b[0msql\u001b[0m \u001b[0;32mimport\u001b[0m \u001b[0;34m*\u001b[0m\u001b[0;34m\u001b[0m\u001b[0m\n",
      "\u001b[0;32m/home/mammad/anaconda3/lib/python3.6/site-packages/findspark.py\u001b[0m in \u001b[0;36minit\u001b[0;34m(spark_home, python_path, edit_rc, edit_profile)\u001b[0m\n\u001b[1;32m    120\u001b[0m \u001b[0;34m\u001b[0m\u001b[0m\n\u001b[1;32m    121\u001b[0m     \u001b[0;32mif\u001b[0m \u001b[0;32mnot\u001b[0m \u001b[0mspark_home\u001b[0m\u001b[0;34m:\u001b[0m\u001b[0;34m\u001b[0m\u001b[0m\n\u001b[0;32m--> 122\u001b[0;31m         \u001b[0mspark_home\u001b[0m \u001b[0;34m=\u001b[0m \u001b[0mfind\u001b[0m\u001b[0;34m(\u001b[0m\u001b[0;34m)\u001b[0m\u001b[0;34m\u001b[0m\u001b[0m\n\u001b[0m\u001b[1;32m    123\u001b[0m \u001b[0;34m\u001b[0m\u001b[0m\n\u001b[1;32m    124\u001b[0m     \u001b[0;32mif\u001b[0m \u001b[0;32mnot\u001b[0m \u001b[0mpython_path\u001b[0m\u001b[0;34m:\u001b[0m\u001b[0;34m\u001b[0m\u001b[0m\n",
      "\u001b[0;32m/home/mammad/anaconda3/lib/python3.6/site-packages/findspark.py\u001b[0m in \u001b[0;36mfind\u001b[0;34m()\u001b[0m\n\u001b[1;32m     31\u001b[0m \u001b[0;34m\u001b[0m\u001b[0m\n\u001b[1;32m     32\u001b[0m     \u001b[0;32mif\u001b[0m \u001b[0;32mnot\u001b[0m \u001b[0mspark_home\u001b[0m\u001b[0;34m:\u001b[0m\u001b[0;34m\u001b[0m\u001b[0m\n\u001b[0;32m---> 33\u001b[0;31m         raise ValueError(\"Couldn't find Spark, make sure SPARK_HOME env is set\"\n\u001b[0m\u001b[1;32m     34\u001b[0m                          \" or Spark is in an expected location (e.g. from homebrew installation).\")\n\u001b[1;32m     35\u001b[0m \u001b[0;34m\u001b[0m\u001b[0m\n",
      "\u001b[0;31mValueError\u001b[0m: Couldn't find Spark, make sure SPARK_HOME env is set or Spark is in an expected location (e.g. from homebrew installation)."
     ]
    }
   ],
   "source": [
    "import re\n",
    "import pandas as pd\n",
    "import numpy as np\n",
    "import matplotlib\n",
    "import matplotlib.pyplot as plt\n",
    "%matplotlib inline\n",
    "\n",
    "import findspark\n",
    "findspark.init()\n",
    "\n",
    "from pyspark.sql import *\n",
    "from pyspark.sql.functions import *\n",
    "from pyspark.sql.functions import min\n",
    "\n",
    "from pyspark.sql import SparkSession\n",
    "from pyspark import SparkContext\n",
    "\n",
    "import plotly\n",
    "plotly.offline.init_notebook_mode()\n",
    "\n",
    "spark = SparkSession.builder.getOrCreate()\n",
    "sc = spark.sparkContext"
   ]
  },
  {
   "cell_type": "code",
   "execution_count": 32,
   "metadata": {
    "collapsed": true
   },
   "outputs": [],
   "source": [
    "mentions = spark.read.parquet(\"joined.parquet\")"
   ]
  },
  {
   "cell_type": "code",
   "execution_count": 33,
   "metadata": {},
   "outputs": [
    {
     "data": {
      "text/plain": [
       "DataFrame[GLOBALEVENTID: bigint, Day_DATE: string, MonthYear_Date: string, Year_Date: string, FractionDate: float, Actor1Code: string, Actor1Name: string, Actor1CountryCode: string, Actor1KnownGroupCode: string, Actor1EthnicCode: string, Actor1Religion1Code: string, Actor1Religion2Code: string, Actor1Type1Code: string, Actor1Type2Code: string, Actor1Type3Code: string, Actor2Code: string, Actor2Name: string, Actor2CountryCode: string, Actor2KnownGroupCode: string, Actor2EthnicCode: string, Actor2Religion1Code: string, Actor2Religion2Code: string, Actor2Type1Code: string, Actor2Type2Code: string, Actor2Type3Code: string, IsRootEvent: bigint, EventCode: string, EventBaseCode: string, EventRootCode: string, QuadClass: bigint, GoldsteinScale: float, NumMentions: bigint, NumSources: bigint, NumArticles: bigint, AvgTone: float, Actor1Geo_Type: bigint, Actor1Geo_FullName: string, Actor1Geo_CountryCode: string, Actor1Geo_ADM1Code: string, Actor1Geo_ADM2Code: string, Actor1Geo_Lat: float, Actor1Geo_Long: float, Actor1Geo_FeatureID: string, Actor2Geo_Type: bigint, Actor2Geo_FullName: string, Actor2Geo_CountryCode: string, Actor2Geo_ADM1Code: string, Actor2Geo_ADM2Code: string, Actor2Geo_Lat: float, Actor2Geo_Long: float, Actor2Geo_FeatureID: string, ActionGeo_Type: bigint, ActionGeo_FullName: string, ActionGeo_CountryCode: string, ActionGeo_ADM1Code: string, ActionGeo_ADM2Code: string, ActionGeo_Lat: float, ActionGeo_Long: float, ActionGeo_FeatureID: string, DATEADDED: bigint, SOURCEURL: string, GLOBALEVENTID_MENTIONS: bigint, EventTimeDate_MENTIONS: bigint, MentionTimeDate_MENTIONS: bigint, MentionType_MENTIONS: bigint, MentionSourceName_MENTIONS: string, MentionIdentifier_MENTIONS: string, SentenceID_MENTIONS: bigint, Actor1CharOffset_MENTIONS: bigint, Actor2CharOffset_MENTIONS: bigint, ActionCharOffset_MENTIONS: bigint, InRawText_MENTIONS: bigint, Confidence_MENTIONS: bigint, MentionDocLen_MENTIONS: bigint, MentionDocTone_MENTIONS: float, MentionDocTranslationInfo_MENTIONS: string, Extras_MENTIONS: string]"
      ]
     },
     "execution_count": 33,
     "metadata": {},
     "output_type": "execute_result"
    }
   ],
   "source": [
    "mentions"
   ]
  },
  {
   "cell_type": "code",
   "execution_count": 34,
   "metadata": {},
   "outputs": [
    {
     "data": {
      "text/plain": [
       "2976728"
      ]
     },
     "execution_count": 34,
     "metadata": {},
     "output_type": "execute_result"
    }
   ],
   "source": [
    "mentions.count()"
   ]
  },
  {
   "cell_type": "code",
   "execution_count": 35,
   "metadata": {
    "collapsed": true
   },
   "outputs": [],
   "source": [
    "country_codes = ['AU','BE','BU','HR','CY','EZ','DK','EN','FI','FR','GM','GR','HU','EI','IT','LG','LH','LU','MT','NL','PL','PO','RO','LO','SI','SP','SW','UK','NO','LS','IC','SZ', 'TU']\n",
    "\n",
    "european_mentions = mentions.where(col('ActionGeo_CountryCode').isin(country_codes))"
   ]
  },
  {
   "cell_type": "code",
   "execution_count": 36,
   "metadata": {},
   "outputs": [
    {
     "data": {
      "text/plain": [
       "1025090"
      ]
     },
     "execution_count": 36,
     "metadata": {},
     "output_type": "execute_result"
    }
   ],
   "source": [
    "european_mentions.count()"
   ]
  },
  {
   "cell_type": "code",
   "execution_count": 37,
   "metadata": {
    "collapsed": true
   },
   "outputs": [],
   "source": [
    "#european_mentions.select(col(\"MentionTimeDate_MENTIONS\")).sort(col(\"MentionTimeDate_MENTIONS\")).show()"
   ]
  },
  {
   "cell_type": "code",
   "execution_count": 38,
   "metadata": {},
   "outputs": [
    {
     "name": "stdout",
     "output_type": "stream",
     "text": [
      "+--------------------------+\n",
      "|MentionSourceName_MENTIONS|\n",
      "+--------------------------+\n",
      "|               mrtimes.com|\n",
      "|                  kawc.org|\n",
      "|          tucsonweekly.com|\n",
      "|      middleeastmonitor...|\n",
      "|        middevonstar.co.uk|\n",
      "|              novinite.com|\n",
      "|          commondreams.org|\n",
      "|          commondreams.org|\n",
      "|         turkishweekly.net|\n",
      "|             focus-fen.net|\n",
      "|             focus-fen.net|\n",
      "|            gulf-times.com|\n",
      "|                spiegel.de|\n",
      "|         indianexpress.com|\n",
      "|          101touchfm.co.uk|\n",
      "|        banburysound.co.uk|\n",
      "|            964eagle.co.uk|\n",
      "|               mix96.co.uk|\n",
      "|             arrowfm.co.uk|\n",
      "|           kingdomfm.co.uk|\n",
      "+--------------------------+\n",
      "only showing top 20 rows\n",
      "\n"
     ]
    }
   ],
   "source": [
    "european_mentions.select(col(\"MentionSourceName_MENTIONS\")).where(col(\"MentionType_MENTIONS\") == 1).show()"
   ]
  },
  {
   "cell_type": "code",
   "execution_count": 39,
   "metadata": {
    "collapsed": true
   },
   "outputs": [],
   "source": [
    "european_mentions = european_mentions.where((col(\"MentionType_MENTIONS\") == 1))"
   ]
  },
  {
   "cell_type": "code",
   "execution_count": 40,
   "metadata": {},
   "outputs": [
    {
     "data": {
      "text/html": [
       "<div>\n",
       "<style scoped>\n",
       "    .dataframe tbody tr th:only-of-type {\n",
       "        vertical-align: middle;\n",
       "    }\n",
       "\n",
       "    .dataframe tbody tr th {\n",
       "        vertical-align: top;\n",
       "    }\n",
       "\n",
       "    .dataframe thead th {\n",
       "        text-align: right;\n",
       "    }\n",
       "</style>\n",
       "<table border=\"1\" class=\"dataframe\">\n",
       "  <thead>\n",
       "    <tr style=\"text-align: right;\">\n",
       "      <th></th>\n",
       "      <th>ISO</th>\n",
       "      <th>Country Name</th>\n",
       "      <th>Domen</th>\n",
       "    </tr>\n",
       "  </thead>\n",
       "  <tbody>\n",
       "    <tr>\n",
       "      <th>0</th>\n",
       "      <td>AUT</td>\n",
       "      <td>Austria</td>\n",
       "      <td>at</td>\n",
       "    </tr>\n",
       "    <tr>\n",
       "      <th>1</th>\n",
       "      <td>BEL</td>\n",
       "      <td>Belgium</td>\n",
       "      <td>be</td>\n",
       "    </tr>\n",
       "    <tr>\n",
       "      <th>2</th>\n",
       "      <td>BGR</td>\n",
       "      <td>Bulgaria</td>\n",
       "      <td>bg</td>\n",
       "    </tr>\n",
       "    <tr>\n",
       "      <th>3</th>\n",
       "      <td>HRV</td>\n",
       "      <td>Croatia</td>\n",
       "      <td>hr</td>\n",
       "    </tr>\n",
       "    <tr>\n",
       "      <th>4</th>\n",
       "      <td>CYP</td>\n",
       "      <td>Cyprus</td>\n",
       "      <td>cy</td>\n",
       "    </tr>\n",
       "  </tbody>\n",
       "</table>\n",
       "</div>"
      ],
      "text/plain": [
       "   ISO Country Name Domen\n",
       "0  AUT      Austria    at\n",
       "1  BEL      Belgium    be\n",
       "2  BGR     Bulgaria    bg\n",
       "3  HRV      Croatia    hr\n",
       "4  CYP       Cyprus    cy"
      ]
     },
     "execution_count": 40,
     "metadata": {},
     "output_type": "execute_result"
    }
   ],
   "source": [
    "eu = pd.read_csv(\"EU.csv\",skipinitialspace=True)\n",
    "eu.head()"
   ]
  },
  {
   "cell_type": "code",
   "execution_count": 41,
   "metadata": {
    "collapsed": true
   },
   "outputs": [],
   "source": [
    "european_mentions = european_mentions.withColumn(\"Domens_MENTIONS\", (substring(col(\"MentionSourceName_MENTIONS\"), -2, 2)))\n",
    "#european_mentions.select(col(\"Domens_MENTIONS\")).show()"
   ]
  },
  {
   "cell_type": "code",
   "execution_count": 42,
   "metadata": {},
   "outputs": [
    {
     "name": "stdout",
     "output_type": "stream",
     "text": [
      "+---------------+------+\n",
      "|Domens_MENTIONS| count|\n",
      "+---------------+------+\n",
      "|             om|710352|\n",
      "|             uk| 69601|\n",
      "|             rg| 63117|\n",
      "|             et| 35754|\n",
      "|             au| 33527|\n",
      "|             tv|  8053|\n",
      "|             eu|  7325|\n",
      "|             ca|  5956|\n",
      "|             nt|  5946|\n",
      "|             ie|  5398|\n",
      "|             za|  4635|\n",
      "|             de|  4170|\n",
      "|             cn|  3969|\n",
      "|             my|  3773|\n",
      "|             tr|  3763|\n",
      "|             pk|  3527|\n",
      "|             fo|  3478|\n",
      "|             gr|  3380|\n",
      "|             nz|  3265|\n",
      "|             ch|  2351|\n",
      "+---------------+------+\n",
      "only showing top 20 rows\n",
      "\n"
     ]
    }
   ],
   "source": [
    "grouped = european_mentions.groupBy('Domens_MENTIONS').count()\n",
    "grouped.orderBy(desc(\"count\")).show()"
   ]
  },
  {
   "cell_type": "code",
   "execution_count": null,
   "metadata": {
    "collapsed": true
   },
   "outputs": [],
   "source": []
  },
  {
   "cell_type": "code",
   "execution_count": 43,
   "metadata": {},
   "outputs": [
    {
     "data": {
      "text/plain": [
       "916722"
      ]
     },
     "execution_count": 43,
     "metadata": {},
     "output_type": "execute_result"
    }
   ],
   "source": [
    "array = eu['Domen'].values.tolist()\n",
    "unknown_domens = european_mentions.where(col(\"Domens_MENTIONS\").isin(array) == False)\n",
    "unknown_domens.count()"
   ]
  },
  {
   "cell_type": "code",
   "execution_count": 44,
   "metadata": {},
   "outputs": [
    {
     "data": {
      "text/plain": [
       "GLOBALEVENTID                         104854\n",
       "Day_DATE                              104854\n",
       "MonthYear_Date                        104854\n",
       "Year_Date                             104854\n",
       "FractionDate                          104854\n",
       "Actor1Code                            101554\n",
       "Actor1Name                            101554\n",
       "Actor1CountryCode                      40388\n",
       "Actor1KnownGroupCode                    2301\n",
       "Actor1EthnicCode                         265\n",
       "Actor1Religion1Code                      810\n",
       "Actor1Religion2Code                      172\n",
       "Actor1Type1Code                        66550\n",
       "Actor1Type2Code                         1646\n",
       "Actor1Type3Code                           25\n",
       "Actor2Code                             93445\n",
       "Actor2Name                             93445\n",
       "Actor2CountryCode                      28006\n",
       "Actor2KnownGroupCode                    1220\n",
       "Actor2EthnicCode                         187\n",
       "Actor2Religion1Code                      315\n",
       "Actor2Religion2Code                       65\n",
       "Actor2Type1Code                        67582\n",
       "Actor2Type2Code                          883\n",
       "Actor2Type3Code                           30\n",
       "IsRootEvent                           104854\n",
       "EventCode                             104854\n",
       "EventBaseCode                         104854\n",
       "EventRootCode                         104854\n",
       "QuadClass                             104854\n",
       "                                       ...  \n",
       "Actor2Geo_Lat                          93410\n",
       "Actor2Geo_Long                         93410\n",
       "Actor2Geo_FeatureID                    93445\n",
       "ActionGeo_Type                        104854\n",
       "ActionGeo_FullName                    104836\n",
       "ActionGeo_CountryCode                 104854\n",
       "ActionGeo_ADM1Code                    104854\n",
       "ActionGeo_ADM2Code                     60433\n",
       "ActionGeo_Lat                         104854\n",
       "ActionGeo_Long                        104854\n",
       "ActionGeo_FeatureID                   104854\n",
       "DATEADDED                             104854\n",
       "SOURCEURL                             104854\n",
       "GLOBALEVENTID_MENTIONS                104854\n",
       "EventTimeDate_MENTIONS                104854\n",
       "MentionTimeDate_MENTIONS              104854\n",
       "MentionType_MENTIONS                  104854\n",
       "MentionSourceName_MENTIONS            104854\n",
       "MentionIdentifier_MENTIONS            104854\n",
       "SentenceID_MENTIONS                   104854\n",
       "Actor1CharOffset_MENTIONS             104854\n",
       "Actor2CharOffset_MENTIONS             104854\n",
       "ActionCharOffset_MENTIONS             104854\n",
       "InRawText_MENTIONS                    104854\n",
       "Confidence_MENTIONS                   104854\n",
       "MentionDocLen_MENTIONS                104854\n",
       "MentionDocTone_MENTIONS               104854\n",
       "MentionDocTranslationInfo_MENTIONS         0\n",
       "Extras_MENTIONS                            0\n",
       "Domens_MENTIONS                       104854\n",
       "Length: 78, dtype: int64"
      ]
     },
     "execution_count": 44,
     "metadata": {},
     "output_type": "execute_result"
    }
   ],
   "source": [
    "known_domens = european_mentions.where(col(\"Domens_MENTIONS\").isin(array)).toPandas()\n",
    "known_domens.count()"
   ]
  },
  {
   "cell_type": "code",
   "execution_count": 45,
   "metadata": {},
   "outputs": [
    {
     "data": {
      "text/html": [
       "<div>\n",
       "<style scoped>\n",
       "    .dataframe tbody tr th:only-of-type {\n",
       "        vertical-align: middle;\n",
       "    }\n",
       "\n",
       "    .dataframe tbody tr th {\n",
       "        vertical-align: top;\n",
       "    }\n",
       "\n",
       "    .dataframe thead th {\n",
       "        text-align: right;\n",
       "    }\n",
       "</style>\n",
       "<table border=\"1\" class=\"dataframe\">\n",
       "  <thead>\n",
       "    <tr style=\"text-align: right;\">\n",
       "      <th></th>\n",
       "      <th>GLOBALEVENTID</th>\n",
       "      <th>Day_DATE</th>\n",
       "      <th>MonthYear_Date</th>\n",
       "      <th>Year_Date</th>\n",
       "      <th>FractionDate</th>\n",
       "      <th>Actor1Code</th>\n",
       "      <th>Actor1Name</th>\n",
       "      <th>Actor1CountryCode</th>\n",
       "      <th>Actor1KnownGroupCode</th>\n",
       "      <th>Actor1EthnicCode</th>\n",
       "      <th>...</th>\n",
       "      <th>Confidence_MENTIONS</th>\n",
       "      <th>MentionDocLen_MENTIONS</th>\n",
       "      <th>MentionDocTone_MENTIONS</th>\n",
       "      <th>MentionDocTranslationInfo_MENTIONS</th>\n",
       "      <th>Extras_MENTIONS</th>\n",
       "      <th>Domens_MENTIONS</th>\n",
       "      <th>ISO</th>\n",
       "      <th>Country Name</th>\n",
       "      <th>Domen</th>\n",
       "      <th>year_MENTIONS</th>\n",
       "    </tr>\n",
       "  </thead>\n",
       "  <tbody>\n",
       "    <tr>\n",
       "      <th>0</th>\n",
       "      <td>412733685</td>\n",
       "      <td>20150227</td>\n",
       "      <td>201502</td>\n",
       "      <td>2015</td>\n",
       "      <td>2015.156250</td>\n",
       "      <td>REF</td>\n",
       "      <td>REFUGEE</td>\n",
       "      <td>None</td>\n",
       "      <td>None</td>\n",
       "      <td>None</td>\n",
       "      <td>...</td>\n",
       "      <td>40</td>\n",
       "      <td>5489</td>\n",
       "      <td>-4.684096</td>\n",
       "      <td>None</td>\n",
       "      <td>None</td>\n",
       "      <td>uk</td>\n",
       "      <td>GBR</td>\n",
       "      <td>United Kingdom</td>\n",
       "      <td>uk</td>\n",
       "      <td>2015</td>\n",
       "    </tr>\n",
       "    <tr>\n",
       "      <th>1</th>\n",
       "      <td>426760292</td>\n",
       "      <td>20150420</td>\n",
       "      <td>201504</td>\n",
       "      <td>2015</td>\n",
       "      <td>2015.301392</td>\n",
       "      <td>IGOEUREECGOV</td>\n",
       "      <td>EUROPEAN UNION</td>\n",
       "      <td>EUR</td>\n",
       "      <td>EEC</td>\n",
       "      <td>None</td>\n",
       "      <td>...</td>\n",
       "      <td>100</td>\n",
       "      <td>3129</td>\n",
       "      <td>-7.269155</td>\n",
       "      <td>None</td>\n",
       "      <td>None</td>\n",
       "      <td>uk</td>\n",
       "      <td>GBR</td>\n",
       "      <td>United Kingdom</td>\n",
       "      <td>uk</td>\n",
       "      <td>2015</td>\n",
       "    </tr>\n",
       "    <tr>\n",
       "      <th>2</th>\n",
       "      <td>426760292</td>\n",
       "      <td>20150420</td>\n",
       "      <td>201504</td>\n",
       "      <td>2015</td>\n",
       "      <td>2015.301392</td>\n",
       "      <td>IGOEUREECGOV</td>\n",
       "      <td>EUROPEAN UNION</td>\n",
       "      <td>EUR</td>\n",
       "      <td>EEC</td>\n",
       "      <td>None</td>\n",
       "      <td>...</td>\n",
       "      <td>100</td>\n",
       "      <td>3129</td>\n",
       "      <td>-7.283464</td>\n",
       "      <td>None</td>\n",
       "      <td>None</td>\n",
       "      <td>uk</td>\n",
       "      <td>GBR</td>\n",
       "      <td>United Kingdom</td>\n",
       "      <td>uk</td>\n",
       "      <td>2015</td>\n",
       "    </tr>\n",
       "    <tr>\n",
       "      <th>3</th>\n",
       "      <td>426760292</td>\n",
       "      <td>20150420</td>\n",
       "      <td>201504</td>\n",
       "      <td>2015</td>\n",
       "      <td>2015.301392</td>\n",
       "      <td>IGOEUREECGOV</td>\n",
       "      <td>EUROPEAN UNION</td>\n",
       "      <td>EUR</td>\n",
       "      <td>EEC</td>\n",
       "      <td>None</td>\n",
       "      <td>...</td>\n",
       "      <td>100</td>\n",
       "      <td>3104</td>\n",
       "      <td>-7.341270</td>\n",
       "      <td>None</td>\n",
       "      <td>None</td>\n",
       "      <td>uk</td>\n",
       "      <td>GBR</td>\n",
       "      <td>United Kingdom</td>\n",
       "      <td>uk</td>\n",
       "      <td>2015</td>\n",
       "    </tr>\n",
       "    <tr>\n",
       "      <th>4</th>\n",
       "      <td>426760292</td>\n",
       "      <td>20150420</td>\n",
       "      <td>201504</td>\n",
       "      <td>2015</td>\n",
       "      <td>2015.301392</td>\n",
       "      <td>IGOEUREECGOV</td>\n",
       "      <td>EUROPEAN UNION</td>\n",
       "      <td>EUR</td>\n",
       "      <td>EEC</td>\n",
       "      <td>None</td>\n",
       "      <td>...</td>\n",
       "      <td>100</td>\n",
       "      <td>3114</td>\n",
       "      <td>-7.326733</td>\n",
       "      <td>None</td>\n",
       "      <td>None</td>\n",
       "      <td>uk</td>\n",
       "      <td>GBR</td>\n",
       "      <td>United Kingdom</td>\n",
       "      <td>uk</td>\n",
       "      <td>2015</td>\n",
       "    </tr>\n",
       "  </tbody>\n",
       "</table>\n",
       "<p>5 rows × 82 columns</p>\n",
       "</div>"
      ],
      "text/plain": [
       "   GLOBALEVENTID  Day_DATE MonthYear_Date Year_Date  FractionDate  \\\n",
       "0      412733685  20150227         201502      2015   2015.156250   \n",
       "1      426760292  20150420         201504      2015   2015.301392   \n",
       "2      426760292  20150420         201504      2015   2015.301392   \n",
       "3      426760292  20150420         201504      2015   2015.301392   \n",
       "4      426760292  20150420         201504      2015   2015.301392   \n",
       "\n",
       "     Actor1Code      Actor1Name Actor1CountryCode Actor1KnownGroupCode  \\\n",
       "0           REF         REFUGEE              None                 None   \n",
       "1  IGOEUREECGOV  EUROPEAN UNION               EUR                  EEC   \n",
       "2  IGOEUREECGOV  EUROPEAN UNION               EUR                  EEC   \n",
       "3  IGOEUREECGOV  EUROPEAN UNION               EUR                  EEC   \n",
       "4  IGOEUREECGOV  EUROPEAN UNION               EUR                  EEC   \n",
       "\n",
       "  Actor1EthnicCode      ...      Confidence_MENTIONS MentionDocLen_MENTIONS  \\\n",
       "0             None      ...                       40                   5489   \n",
       "1             None      ...                      100                   3129   \n",
       "2             None      ...                      100                   3129   \n",
       "3             None      ...                      100                   3104   \n",
       "4             None      ...                      100                   3114   \n",
       "\n",
       "  MentionDocTone_MENTIONS MentionDocTranslationInfo_MENTIONS Extras_MENTIONS  \\\n",
       "0               -4.684096                               None            None   \n",
       "1               -7.269155                               None            None   \n",
       "2               -7.283464                               None            None   \n",
       "3               -7.341270                               None            None   \n",
       "4               -7.326733                               None            None   \n",
       "\n",
       "  Domens_MENTIONS  ISO    Country Name Domen year_MENTIONS  \n",
       "0              uk  GBR  United Kingdom    uk          2015  \n",
       "1              uk  GBR  United Kingdom    uk          2015  \n",
       "2              uk  GBR  United Kingdom    uk          2015  \n",
       "3              uk  GBR  United Kingdom    uk          2015  \n",
       "4              uk  GBR  United Kingdom    uk          2015  \n",
       "\n",
       "[5 rows x 82 columns]"
      ]
     },
     "execution_count": 45,
     "metadata": {},
     "output_type": "execute_result"
    }
   ],
   "source": [
    "eu_news = pd.merge(known_domens, eu, left_on='Domens_MENTIONS', right_on='Domen', how='inner')\n",
    "eu_news['year_MENTIONS'] = eu_news['MentionTimeDate_MENTIONS'].apply(lambda x: int(str(x)[:4]))\n",
    "eu_news.head()"
   ]
  },
  {
   "cell_type": "code",
   "execution_count": 46,
   "metadata": {},
   "outputs": [
    {
     "data": {
      "text/html": [
       "<div>\n",
       "<style scoped>\n",
       "    .dataframe tbody tr th:only-of-type {\n",
       "        vertical-align: middle;\n",
       "    }\n",
       "\n",
       "    .dataframe tbody tr th {\n",
       "        vertical-align: top;\n",
       "    }\n",
       "\n",
       "    .dataframe thead th {\n",
       "        text-align: right;\n",
       "    }\n",
       "</style>\n",
       "<table border=\"1\" class=\"dataframe\">\n",
       "  <thead>\n",
       "    <tr style=\"text-align: right;\">\n",
       "      <th></th>\n",
       "      <th>year_MENTIONS</th>\n",
       "      <th>ISO</th>\n",
       "      <th>GLOBALEVENTID</th>\n",
       "    </tr>\n",
       "  </thead>\n",
       "  <tbody>\n",
       "    <tr>\n",
       "      <th>0</th>\n",
       "      <td>2015</td>\n",
       "      <td>AUT</td>\n",
       "      <td>690</td>\n",
       "    </tr>\n",
       "    <tr>\n",
       "      <th>1</th>\n",
       "      <td>2015</td>\n",
       "      <td>BEL</td>\n",
       "      <td>65</td>\n",
       "    </tr>\n",
       "    <tr>\n",
       "      <th>2</th>\n",
       "      <td>2015</td>\n",
       "      <td>BGR</td>\n",
       "      <td>183</td>\n",
       "    </tr>\n",
       "    <tr>\n",
       "      <th>3</th>\n",
       "      <td>2015</td>\n",
       "      <td>CHE</td>\n",
       "      <td>940</td>\n",
       "    </tr>\n",
       "    <tr>\n",
       "      <th>4</th>\n",
       "      <td>2015</td>\n",
       "      <td>CYP</td>\n",
       "      <td>29</td>\n",
       "    </tr>\n",
       "  </tbody>\n",
       "</table>\n",
       "</div>"
      ],
      "text/plain": [
       "   year_MENTIONS  ISO  GLOBALEVENTID\n",
       "0           2015  AUT            690\n",
       "1           2015  BEL             65\n",
       "2           2015  BGR            183\n",
       "3           2015  CHE            940\n",
       "4           2015  CYP             29"
      ]
     },
     "execution_count": 46,
     "metadata": {},
     "output_type": "execute_result"
    }
   ],
   "source": [
    "grouped = eu_news[['year_MENTIONS','ISO','GLOBALEVENTID']].groupby(['year_MENTIONS','ISO'], as_index=False).count()\n",
    "grouped.head()"
   ]
  },
  {
   "cell_type": "code",
   "execution_count": 47,
   "metadata": {},
   "outputs": [
    {
     "data": {
      "application/vnd.plotly.v1+json": {
       "data": [
        {
         "locationmode": "ISO-3",
         "locations": [
          "AUT",
          "BEL",
          "BGR",
          "CHE",
          "CYP",
          "CZE",
          "DEU",
          "DNK",
          "ESP",
          "EST",
          "FIN",
          "FRA",
          "GBR",
          "GRC",
          "HUN",
          "IRL",
          "ISL",
          "ITA",
          "LTU",
          "LUX",
          "LVA",
          "MLT",
          "NLD",
          "NOR",
          "POL",
          "ROU",
          "RUS",
          "SVK",
          "SVN",
          "SWE",
          "TUR"
         ],
         "type": "choropleth",
         "uid": "dbea43bc-1063-41ca-ab37-ad73e2439b5c",
         "z": [
          690,
          65,
          183,
          940,
          29,
          1183,
          1868,
          32,
          141,
          288,
          137,
          415,
          22298,
          744,
          438,
          2472,
          133,
          997,
          328,
          310,
          63,
          594,
          549,
          300,
          301,
          286,
          41,
          287,
          79,
          610,
          1551
         ]
        },
        {
         "locationmode": "ISO-3",
         "locations": [
          "AUT",
          "BEL",
          "BGR",
          "CHE",
          "CYP",
          "CZE",
          "DEU",
          "DNK",
          "ESP",
          "EST",
          "FIN",
          "FRA",
          "GBR",
          "GRC",
          "HRV",
          "HUN",
          "IRL",
          "ISL",
          "ITA",
          "LTU",
          "LUX",
          "LVA",
          "MLT",
          "NLD",
          "NOR",
          "POL",
          "PRT",
          "ROU",
          "RUS",
          "SVK",
          "SVN",
          "SWE",
          "TUR"
         ],
         "type": "choropleth",
         "uid": "7c36fe0a-ec2d-4fbe-acfc-b39edbf60b48",
         "z": [
          1092,
          47,
          114,
          1071,
          80,
          420,
          1728,
          47,
          114,
          146,
          163,
          362,
          35691,
          2205,
          127,
          195,
          2021,
          54,
          586,
          64,
          195,
          25,
          425,
          355,
          161,
          347,
          9,
          145,
          101,
          46,
          88,
          306,
          1798
         ]
        },
        {
         "locationmode": "ISO-3",
         "locations": [
          "AUT",
          "BEL",
          "BGR",
          "CHE",
          "CZE",
          "DEU",
          "DNK",
          "ESP",
          "EST",
          "FIN",
          "FRA",
          "GBR",
          "GRC",
          "HUN",
          "IRL",
          "ISL",
          "ITA",
          "LTU",
          "LUX",
          "LVA",
          "MLT",
          "NLD",
          "NOR",
          "POL",
          "PRT",
          "ROU",
          "RUS",
          "SVK",
          "SVN",
          "SWE",
          "TUR"
         ],
         "type": "choropleth",
         "uid": "d4581258-70de-40e6-b6c0-93bcabc95a36",
         "z": [
          38,
          34,
          24,
          340,
          150,
          574,
          14,
          50,
          42,
          34,
          111,
          11612,
          431,
          85,
          905,
          42,
          262,
          5,
          20,
          2,
          157,
          108,
          117,
          350,
          6,
          62,
          13,
          40,
          30,
          102,
          414
         ]
        }
       ],
       "layout": {
        "geo": {
         "projection": {
          "type": "eckert4"
         },
         "scope": "world"
        },
        "sliders": [
         {
          "active": 0,
          "pad": {
           "t": 1
          },
          "steps": [
           {
            "args": [
             "visible",
             [
              true,
              false,
              false
             ]
            ],
            "label": "Year 2015",
            "method": "restyle"
           },
           {
            "args": [
             "visible",
             [
              false,
              true,
              false
             ]
            ],
            "label": "Year 2016",
            "method": "restyle"
           },
           {
            "args": [
             "visible",
             [
              false,
              false,
              true
             ]
            ],
            "label": "Year 2017",
            "method": "restyle"
           }
          ]
         }
        ]
       }
      },
      "text/html": [
       "<div id=\"7a2895e4-085f-4f12-9ee7-1bc7a686fea3\" style=\"height: 525px; width: 100%;\" class=\"plotly-graph-div\"></div><script type=\"text/javascript\">require([\"plotly\"], function(Plotly) { window.PLOTLYENV=window.PLOTLYENV || {};window.PLOTLYENV.BASE_URL=\"https://plot.ly\";Plotly.newPlot(\"7a2895e4-085f-4f12-9ee7-1bc7a686fea3\", [{\"locationmode\": \"ISO-3\", \"locations\": [\"AUT\", \"BEL\", \"BGR\", \"CHE\", \"CYP\", \"CZE\", \"DEU\", \"DNK\", \"ESP\", \"EST\", \"FIN\", \"FRA\", \"GBR\", \"GRC\", \"HUN\", \"IRL\", \"ISL\", \"ITA\", \"LTU\", \"LUX\", \"LVA\", \"MLT\", \"NLD\", \"NOR\", \"POL\", \"ROU\", \"RUS\", \"SVK\", \"SVN\", \"SWE\", \"TUR\"], \"z\": [690.0, 65.0, 183.0, 940.0, 29.0, 1183.0, 1868.0, 32.0, 141.0, 288.0, 137.0, 415.0, 22298.0, 744.0, 438.0, 2472.0, 133.0, 997.0, 328.0, 310.0, 63.0, 594.0, 549.0, 300.0, 301.0, 286.0, 41.0, 287.0, 79.0, 610.0, 1551.0], \"type\": \"choropleth\", \"uid\": \"0598f3ad-cd25-4db7-9c0b-1175501be823\"}, {\"locationmode\": \"ISO-3\", \"locations\": [\"AUT\", \"BEL\", \"BGR\", \"CHE\", \"CYP\", \"CZE\", \"DEU\", \"DNK\", \"ESP\", \"EST\", \"FIN\", \"FRA\", \"GBR\", \"GRC\", \"HRV\", \"HUN\", \"IRL\", \"ISL\", \"ITA\", \"LTU\", \"LUX\", \"LVA\", \"MLT\", \"NLD\", \"NOR\", \"POL\", \"PRT\", \"ROU\", \"RUS\", \"SVK\", \"SVN\", \"SWE\", \"TUR\"], \"z\": [1092.0, 47.0, 114.0, 1071.0, 80.0, 420.0, 1728.0, 47.0, 114.0, 146.0, 163.0, 362.0, 35691.0, 2205.0, 127.0, 195.0, 2021.0, 54.0, 586.0, 64.0, 195.0, 25.0, 425.0, 355.0, 161.0, 347.0, 9.0, 145.0, 101.0, 46.0, 88.0, 306.0, 1798.0], \"type\": \"choropleth\", \"uid\": \"c3c11d80-0af1-41f2-8c81-4ec93bd4f2a0\"}, {\"locationmode\": \"ISO-3\", \"locations\": [\"AUT\", \"BEL\", \"BGR\", \"CHE\", \"CZE\", \"DEU\", \"DNK\", \"ESP\", \"EST\", \"FIN\", \"FRA\", \"GBR\", \"GRC\", \"HUN\", \"IRL\", \"ISL\", \"ITA\", \"LTU\", \"LUX\", \"LVA\", \"MLT\", \"NLD\", \"NOR\", \"POL\", \"PRT\", \"ROU\", \"RUS\", \"SVK\", \"SVN\", \"SWE\", \"TUR\"], \"z\": [38.0, 34.0, 24.0, 340.0, 150.0, 574.0, 14.0, 50.0, 42.0, 34.0, 111.0, 11612.0, 431.0, 85.0, 905.0, 42.0, 262.0, 5.0, 20.0, 2.0, 157.0, 108.0, 117.0, 350.0, 6.0, 62.0, 13.0, 40.0, 30.0, 102.0, 414.0], \"type\": \"choropleth\", \"uid\": \"981e988e-cba0-4fbc-9791-2986f6f19078\"}], {\"geo\": {\"projection\": {\"type\": \"eckert4\"}, \"scope\": \"world\"}, \"sliders\": [{\"active\": 0, \"pad\": {\"t\": 1}, \"steps\": [{\"args\": [\"visible\", [true, false, false]], \"label\": \"Year 2015\", \"method\": \"restyle\"}, {\"args\": [\"visible\", [false, true, false]], \"label\": \"Year 2016\", \"method\": \"restyle\"}, {\"args\": [\"visible\", [false, false, true]], \"label\": \"Year 2017\", \"method\": \"restyle\"}]}]}, {\"showLink\": true, \"linkText\": \"Export to plot.ly\"})});</script><script type=\"text/javascript\">window.addEventListener(\"resize\", function(){window._Plotly.Plots.resize(document.getElementById(\"7a2895e4-085f-4f12-9ee7-1bc7a686fea3\"));});</script>"
      ],
      "text/vnd.plotly.v1+html": [
       "<div id=\"7a2895e4-085f-4f12-9ee7-1bc7a686fea3\" style=\"height: 525px; width: 100%;\" class=\"plotly-graph-div\"></div><script type=\"text/javascript\">require([\"plotly\"], function(Plotly) { window.PLOTLYENV=window.PLOTLYENV || {};window.PLOTLYENV.BASE_URL=\"https://plot.ly\";Plotly.newPlot(\"7a2895e4-085f-4f12-9ee7-1bc7a686fea3\", [{\"locationmode\": \"ISO-3\", \"locations\": [\"AUT\", \"BEL\", \"BGR\", \"CHE\", \"CYP\", \"CZE\", \"DEU\", \"DNK\", \"ESP\", \"EST\", \"FIN\", \"FRA\", \"GBR\", \"GRC\", \"HUN\", \"IRL\", \"ISL\", \"ITA\", \"LTU\", \"LUX\", \"LVA\", \"MLT\", \"NLD\", \"NOR\", \"POL\", \"ROU\", \"RUS\", \"SVK\", \"SVN\", \"SWE\", \"TUR\"], \"z\": [690.0, 65.0, 183.0, 940.0, 29.0, 1183.0, 1868.0, 32.0, 141.0, 288.0, 137.0, 415.0, 22298.0, 744.0, 438.0, 2472.0, 133.0, 997.0, 328.0, 310.0, 63.0, 594.0, 549.0, 300.0, 301.0, 286.0, 41.0, 287.0, 79.0, 610.0, 1551.0], \"type\": \"choropleth\", \"uid\": \"0598f3ad-cd25-4db7-9c0b-1175501be823\"}, {\"locationmode\": \"ISO-3\", \"locations\": [\"AUT\", \"BEL\", \"BGR\", \"CHE\", \"CYP\", \"CZE\", \"DEU\", \"DNK\", \"ESP\", \"EST\", \"FIN\", \"FRA\", \"GBR\", \"GRC\", \"HRV\", \"HUN\", \"IRL\", \"ISL\", \"ITA\", \"LTU\", \"LUX\", \"LVA\", \"MLT\", \"NLD\", \"NOR\", \"POL\", \"PRT\", \"ROU\", \"RUS\", \"SVK\", \"SVN\", \"SWE\", \"TUR\"], \"z\": [1092.0, 47.0, 114.0, 1071.0, 80.0, 420.0, 1728.0, 47.0, 114.0, 146.0, 163.0, 362.0, 35691.0, 2205.0, 127.0, 195.0, 2021.0, 54.0, 586.0, 64.0, 195.0, 25.0, 425.0, 355.0, 161.0, 347.0, 9.0, 145.0, 101.0, 46.0, 88.0, 306.0, 1798.0], \"type\": \"choropleth\", \"uid\": \"c3c11d80-0af1-41f2-8c81-4ec93bd4f2a0\"}, {\"locationmode\": \"ISO-3\", \"locations\": [\"AUT\", \"BEL\", \"BGR\", \"CHE\", \"CZE\", \"DEU\", \"DNK\", \"ESP\", \"EST\", \"FIN\", \"FRA\", \"GBR\", \"GRC\", \"HUN\", \"IRL\", \"ISL\", \"ITA\", \"LTU\", \"LUX\", \"LVA\", \"MLT\", \"NLD\", \"NOR\", \"POL\", \"PRT\", \"ROU\", \"RUS\", \"SVK\", \"SVN\", \"SWE\", \"TUR\"], \"z\": [38.0, 34.0, 24.0, 340.0, 150.0, 574.0, 14.0, 50.0, 42.0, 34.0, 111.0, 11612.0, 431.0, 85.0, 905.0, 42.0, 262.0, 5.0, 20.0, 2.0, 157.0, 108.0, 117.0, 350.0, 6.0, 62.0, 13.0, 40.0, 30.0, 102.0, 414.0], \"type\": \"choropleth\", \"uid\": \"981e988e-cba0-4fbc-9791-2986f6f19078\"}], {\"geo\": {\"projection\": {\"type\": \"eckert4\"}, \"scope\": \"world\"}, \"sliders\": [{\"active\": 0, \"pad\": {\"t\": 1}, \"steps\": [{\"args\": [\"visible\", [true, false, false]], \"label\": \"Year 2015\", \"method\": \"restyle\"}, {\"args\": [\"visible\", [false, true, false]], \"label\": \"Year 2016\", \"method\": \"restyle\"}, {\"args\": [\"visible\", [false, false, true]], \"label\": \"Year 2017\", \"method\": \"restyle\"}]}]}, {\"showLink\": true, \"linkText\": \"Export to plot.ly\"})});</script><script type=\"text/javascript\">window.addEventListener(\"resize\", function(){window._Plotly.Plots.resize(document.getElementById(\"7a2895e4-085f-4f12-9ee7-1bc7a686fea3\"));});</script>"
      ]
     },
     "metadata": {},
     "output_type": "display_data"
    }
   ],
   "source": [
    "data = []\n",
    "years = grouped[['year_MENTIONS']].drop_duplicates().values\n",
    "\n",
    "# let's create some additional, random data\n",
    "for i in range(years.shape[0]):\n",
    "    year_data = grouped.loc[grouped['year_MENTIONS'] == years[i][0]]\n",
    "    data.append(dict(type='choropleth',\n",
    "             locations = year_data['ISO'].astype(str),\n",
    "             z=year_data['GLOBALEVENTID'].astype(float),\n",
    "             locationmode='ISO-3'))\n",
    "    \n",
    "# let's create the steps for the slider\n",
    "steps = []\n",
    "for i in range(len(data)):\n",
    "    step = dict(method='restyle',\n",
    "                args=['visible', [False] * len(data)],\n",
    "                label='Year {}'.format(i + 2015))\n",
    "    step['args'][1][i] = True\n",
    "    steps.append(step)\n",
    "\n",
    "sliders = [dict(active=0,\n",
    "                pad={\"t\": 1},\n",
    "                steps=steps)]    \n",
    "layout = dict(geo=dict(scope='world', projection ={'type':'eckert4'}),\n",
    "              sliders=sliders)\n",
    "\n",
    "fig = dict(data=data, \n",
    "           layout=layout)\n",
    "plotly.offline.iplot(fig)"
   ]
  },
  {
   "cell_type": "code",
   "execution_count": null,
   "metadata": {
    "collapsed": true
   },
   "outputs": [],
   "source": []
  },
  {
   "cell_type": "code",
   "execution_count": null,
   "metadata": {
    "collapsed": true
   },
   "outputs": [],
   "source": []
  }
 ],
 "metadata": {
  "kernelspec": {
   "display_name": "Python 3",
   "language": "python",
   "name": "python3"
  },
  "language_info": {
   "codemirror_mode": {
    "name": "ipython",
    "version": 3
   },
   "file_extension": ".py",
   "mimetype": "text/x-python",
   "name": "python",
   "nbconvert_exporter": "python",
   "pygments_lexer": "ipython3",
   "version": "3.6.1"
  },
  "varInspector": {
   "cols": {
    "lenName": 16,
    "lenType": 16,
    "lenVar": 40
   },
   "kernels_config": {
    "python": {
     "delete_cmd_postfix": "",
     "delete_cmd_prefix": "del ",
     "library": "var_list.py",
     "varRefreshCmd": "print(var_dic_list())"
    },
    "r": {
     "delete_cmd_postfix": ") ",
     "delete_cmd_prefix": "rm(",
     "library": "var_list.r",
     "varRefreshCmd": "cat(var_dic_list()) "
    }
   },
   "types_to_exclude": [
    "module",
    "function",
    "builtin_function_or_method",
    "instance",
    "_Feature"
   ],
   "window_display": false
  }
 },
 "nbformat": 4,
 "nbformat_minor": 2
}
