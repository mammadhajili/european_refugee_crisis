{
 "cells": [
  {
   "cell_type": "code",
   "execution_count": 1,
   "metadata": {
    "collapsed": true
   },
   "outputs": [],
   "source": [
    "import pandas as pd\n",
    "import numpy as np\n",
    "import scipy as sp\n",
    "import matplotlib.pyplot as plt\n",
    "from pyspark.sql import *\n",
    "import pyspark.sql.functions as f\n",
    "%matplotlib inline\n",
    "\n",
    "spark = SparkSession.builder.getOrCreate()"
   ]
  },
  {
   "cell_type": "code",
   "execution_count": 2,
   "metadata": {
    "collapsed": true
   },
   "outputs": [],
   "source": [
    "refugees = spark.read.parquet('./data_frame_2.parquet')"
   ]
  },
  {
   "cell_type": "code",
   "execution_count": 3,
   "metadata": {
    "collapsed": true
   },
   "outputs": [],
   "source": [
    "country_codes = ['AU','BE','BU','HR','CY','EZ','DK','EN','FI','FR','GM','GR','HU','EI','IT','LG','LH','LU','MT','NL','PL','PO','RO','LO','SI','SP','SW','UK','NO','LS','IC','SZ', 'TU']\n",
    "\n",
    "european_refugees_2 = refugees.where(f.col('ActionGeo_CountryCode').isin(country_codes))"
   ]
  },
  {
   "cell_type": "code",
   "execution_count": 4,
   "metadata": {},
   "outputs": [
    {
     "data": {
      "text/plain": [
       "301629"
      ]
     },
     "execution_count": 4,
     "metadata": {},
     "output_type": "execute_result"
    }
   ],
   "source": [
    "european_refugees_2.count()"
   ]
  },
  {
   "cell_type": "code",
   "execution_count": 6,
   "metadata": {},
   "outputs": [
    {
     "data": {
      "text/plain": [
       "['GLOBALEVENTID',\n",
       " 'Day_DATE',\n",
       " 'MonthYear_Date',\n",
       " 'Year_Date',\n",
       " 'FractionDate',\n",
       " 'Actor1Code',\n",
       " 'Actor1Name',\n",
       " 'Actor1CountryCode',\n",
       " 'Actor1KnownGroupCode',\n",
       " 'Actor1EthnicCode',\n",
       " 'Actor1Religion1Code',\n",
       " 'Actor1Religion2Code',\n",
       " 'Actor1Type1Code',\n",
       " 'Actor1Type2Code',\n",
       " 'Actor1Type3Code',\n",
       " 'Actor2Code',\n",
       " 'Actor2Name',\n",
       " 'Actor2CountryCode',\n",
       " 'Actor2KnownGroupCode',\n",
       " 'Actor2EthnicCode',\n",
       " 'Actor2Religion1Code',\n",
       " 'Actor2Religion2Code',\n",
       " 'Actor2Type1Code',\n",
       " 'Actor2Type2Code',\n",
       " 'Actor2Type3Code',\n",
       " 'IsRootEvent',\n",
       " 'EventCode',\n",
       " 'EventBaseCode',\n",
       " 'EventRootCode',\n",
       " 'QuadClass',\n",
       " 'GoldsteinScale',\n",
       " 'NumMentions',\n",
       " 'NumSources',\n",
       " 'NumArticles',\n",
       " 'AvgTone',\n",
       " 'Actor1Geo_Type',\n",
       " 'Actor1Geo_FullName',\n",
       " 'Actor1Geo_CountryCode',\n",
       " 'Actor1Geo_ADM1Code',\n",
       " 'Actor1Geo_ADM2Code',\n",
       " 'Actor1Geo_Lat',\n",
       " 'Actor1Geo_Long',\n",
       " 'Actor1Geo_FeatureID',\n",
       " 'Actor2Geo_Type',\n",
       " 'Actor2Geo_FullName',\n",
       " 'Actor2Geo_CountryCode',\n",
       " 'Actor2Geo_ADM1Code',\n",
       " 'Actor2Geo_ADM2Code',\n",
       " 'Actor2Geo_Lat',\n",
       " 'Actor2Geo_Long',\n",
       " 'Actor2Geo_FeatureID',\n",
       " 'ActionGeo_Type',\n",
       " 'ActionGeo_FullName',\n",
       " 'ActionGeo_CountryCode',\n",
       " 'ActionGeo_ADM1Code',\n",
       " 'ActionGeo_ADM2Code',\n",
       " 'ActionGeo_Lat',\n",
       " 'ActionGeo_Long',\n",
       " 'ActionGeo_FeatureID',\n",
       " 'DATEADDED',\n",
       " 'SOURCEURL']"
      ]
     },
     "execution_count": 6,
     "metadata": {},
     "output_type": "execute_result"
    }
   ],
   "source": [
    "european_refugees.columns"
   ]
  },
  {
   "cell_type": "code",
   "execution_count": 46,
   "metadata": {
    "collapsed": true
   },
   "outputs": [],
   "source": [
    "european_refugees_2.write.mode('overwrite').parquet(\"./european_refugees_2.parquet\")"
   ]
  },
  {
   "cell_type": "code",
   "execution_count": 36,
   "metadata": {
    "collapsed": true
   },
   "outputs": [],
   "source": [
    "european_refugees_groupby_countries = european_refugees_2.groupby(f.col('ActionGeo_CountryCode'), f.col('Year_Date'))"
   ]
  },
  {
   "cell_type": "code",
   "execution_count": 43,
   "metadata": {
    "collapsed": true
   },
   "outputs": [],
   "source": [
    "european_refugees_filter_by_year = european_refugees_groupby_countries.count().where(f.col('Year_Date') >= 2015)"
   ]
  },
  {
   "cell_type": "code",
   "execution_count": 47,
   "metadata": {
    "collapsed": true
   },
   "outputs": [],
   "source": [
    "pd = european_refugees_filter_by_year.toPandas()"
   ]
  },
  {
   "cell_type": "code",
   "execution_count": 99,
   "metadata": {
    "collapsed": true
   },
   "outputs": [],
   "source": [
    "new_pd = pd[pd.Year_Date == '2015']"
   ]
  },
  {
   "cell_type": "code",
   "execution_count": 100,
   "metadata": {
    "collapsed": true
   },
   "outputs": [],
   "source": [
    "new_pd = new_pd.sort_values('count', ascending=True)"
   ]
  },
  {
   "cell_type": "code",
   "execution_count": 101,
   "metadata": {},
   "outputs": [
    {
     "data": {
      "text/plain": [
       "<matplotlib.axes._subplots.AxesSubplot at 0x7f41cc6a4ba8>"
      ]
     },
     "execution_count": 101,
     "metadata": {},
     "output_type": "execute_result"
    },
    {
     "data": {
      "image/png": "[encoded data removed]",
      "text/plain": [
       "<matplotlib.figure.Figure at 0x7f41cc7c1e48>"
      ]
     },
     "metadata": {},
     "output_type": "display_data"
    }
   ],
   "source": [
    "new_pd.plot.barh(x='ActionGeo_CountryCode', y='count', figsize = (13, 13))"
   ]
  },
  {
   "cell_type": "code",
   "execution_count": 103,
   "metadata": {},
   "outputs": [
    {
     "name": "stdout",
     "output_type": "stream",
     "text": [
      "+-----------------+-----------------+--------------------+--------------------+---------------------+\n",
      "|Actor1CountryCode|Actor2CountryCode|  Actor1Geo_Fullname|  Actor2Geo_Fullname|ActionGeo_CountryCode|\n",
      "+-----------------+-----------------+--------------------+--------------------+---------------------+\n",
      "|             null|              SYR|Geneva, Genè, Swi...|Geneva, Genè, Swi...|                   SZ|\n",
      "|             null|              SYR|              Turkey|Zabadani, Rif Dim...|                   TU|\n",
      "|             null|              SYR|              Turkey|              Turkey|                   TU|\n",
      "|             null|              SYR|Chicago, Illinois...|              Turkey|                   TU|\n",
      "|              SYR|             null|              Greece|               Syria|                   GR|\n",
      "|              SYR|             null|Paris, RhôAlpes, ...|Paris, RhôAlpes, ...|                   FR|\n",
      "|             null|              SYR|              Turkey|              Turkey|                   TU|\n",
      "|             null|              SYR|              Turkey|              Turkey|                   TU|\n",
      "|             null|              SYR|      United Kingdom|Ankara, Ankara, T...|                   TU|\n",
      "|              SYR|             null|               Syria|      United Kingdom|                   UK|\n",
      "|              SYR|             null|      United Kingdom|      United Kingdom|                   UK|\n",
      "|              SYR|             null|English Channel, ...|English Channel, ...|                   UK|\n",
      "|              SYR|             null|Istanbul, Istanbu...|Istanbul, Istanbu...|                   TU|\n",
      "|             null|              SYR|Kilis, Kilis, Turkey|Aleppo, ?alab, Syria|                   TU|\n",
      "|             null|              SYR|Anadolu, Turkey (...|               Syria|                   TU|\n",
      "|              SYR|             null|               Syria|Anadolu, Turkey (...|                   TU|\n",
      "|             null|              SYR|Istanbul, Istanbu...|Istanbul, Istanbu...|                   TU|\n",
      "|             null|              SYR|Istanbul, Istanbu...|               Syria|                   TU|\n",
      "|              SYR|             null|Istanbul, Istanbu...|Istanbul, Istanbu...|                   TU|\n",
      "|              SYR|             null|               Syria|Istanbul, Istanbu...|                   TU|\n",
      "+-----------------+-----------------+--------------------+--------------------+---------------------+\n",
      "only showing top 20 rows\n",
      "\n"
     ]
    }
   ],
   "source": [
    "european_refugees_2.where((f.col('Actor2CountryCode') == 'SYR') | (f.col('Actor1CountryCode') == 'SYR')).select('Actor1CountryCode', 'Actor2CountryCode', 'Actor1Geo_Fullname', 'Actor2Geo_Fullname', 'ActionGeo_CountryCode').show()"
   ]
  },
  {
   "cell_type": "code",
   "execution_count": null,
   "metadata": {
    "collapsed": true
   },
   "outputs": [],
   "source": [
    "pd = european_refugees.toPandas()"
   ]
  },
  {
   "cell_type": "code",
   "execution_count": 29,
   "metadata": {},
   "outputs": [
    {
     "name": "stdout",
     "output_type": "stream",
     "text": [
      "+-----------------+-----------------+---------------------+---------------------+---------------------+\n",
      "|Actor1CountryCode|Actor2CountryCode|Actor1Geo_CountryCode|Actor2Geo_CountryCode|ActionGeo_CountryCode|\n",
      "+-----------------+-----------------+---------------------+---------------------+---------------------+\n",
      "|              DEU|             null|                   GM|                   GM|                   GM|\n",
      "|              DEU|             null|                   GM|                   RP|                   GM|\n",
      "|             null|             null|                   GM|                   GM|                   GM|\n",
      "|              ITA|             null|                   SO|                   IT|                   IT|\n",
      "|              ITA|             null|                   IT|                   IT|                   IT|\n",
      "|              JOR|             null|                   GR|                   GR|                   GR|\n",
      "|              NOR|             null|                   NO|                   NO|                   NO|\n",
      "|             null|             null|                   SZ|                 null|                   SZ|\n",
      "|             null|             null|                   GR|                   GR|                   GR|\n",
      "|             null|             null|                   RW|                   FR|                   FR|\n",
      "|             null|             null|                   FR|                   RW|                   FR|\n",
      "|             null|             null|                   FR|                   FR|                   FR|\n",
      "|             null|              JOR|                   GR|                   GR|                   GR|\n",
      "|             null|              SYR|                   SZ|                   SZ|                   SZ|\n",
      "|             null|              SYR|                   TU|                   SY|                   TU|\n",
      "|             null|              SYR|                   TU|                   TU|                   TU|\n",
      "|              TUR|             null|                   TU|                   TU|                   TU|\n",
      "|              TUR|             null|                   TU|                   TU|                   TU|\n",
      "|             null|             null|                 null|                   GM|                   GM|\n",
      "|             null|             null|                   GM|                   GM|                   GM|\n",
      "+-----------------+-----------------+---------------------+---------------------+---------------------+\n",
      "only showing top 20 rows\n",
      "\n"
     ]
    }
   ],
   "source": [
    "european_refugees_2.select('Actor1CountryCode', 'Actor2CountryCode', 'Actor1Geo_CountryCode', 'Actor2Geo_CountryCode', 'ActionGeo_CountryCode').show()"
   ]
  }
 ],
 "metadata": {
  "kernelspec": {
   "display_name": "Python 3",
   "language": "python",
   "name": "python3"
  },
  "language_info": {
   "codemirror_mode": {
    "name": "ipython",
    "version": 3
   },
   "file_extension": ".py",
   "mimetype": "text/x-python",
   "name": "python",
   "nbconvert_exporter": "python",
   "pygments_lexer": "ipython3",
   "version": "3.6.1"
  }
 },
 "nbformat": 4,
 "nbformat_minor": 2
}
